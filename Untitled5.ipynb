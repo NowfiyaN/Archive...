{
  "nbformat": 4,
  "nbformat_minor": 0,
  "metadata": {
    "colab": {
      "provenance": [],
      "authorship_tag": "ABX9TyPEnLVhd8vjyxNALfT+i1s9",
      "include_colab_link": true
    },
    "kernelspec": {
      "name": "python3",
      "display_name": "Python 3"
    },
    "language_info": {
      "name": "python"
    }
  },
  "cells": [
    {
      "cell_type": "markdown",
      "metadata": {
        "id": "view-in-github",
        "colab_type": "text"
      },
      "source": [
        "<a href=\"https://colab.research.google.com/github/NowfiyaN/Archive.../blob/main/Untitled5.ipynb\" target=\"_parent\"><img src=\"https://colab.research.google.com/assets/colab-badge.svg\" alt=\"Open In Colab\"/></a>"
      ]
    },
    {
      "cell_type": "markdown",
      "source": [
        "##Mount Google Drive"
      ],
      "metadata": {
        "id": "qSumR72zQcE8"
      }
    },
    {
      "cell_type": "code",
      "execution_count": null,
      "metadata": {
        "colab": {
          "base_uri": "https://localhost:8080/"
        },
        "id": "n6I9Aln5QDW1",
        "outputId": "b1aa3686-944b-4c53-fab5-a2f1050cb877"
      },
      "outputs": [
        {
          "output_type": "stream",
          "name": "stdout",
          "text": [
            "Mounted at /content/drive\n"
          ]
        }
      ],
      "source": [
        "from google.colab import drive\n",
        "drive.mount('/content/drive')"
      ]
    },
    {
      "cell_type": "markdown",
      "source": [
        "##import dataset and libraries"
      ],
      "metadata": {
        "id": "KzV_OmwFVjh_"
      }
    },
    {
      "cell_type": "code",
      "source": [
        "import pandas as pd\n",
        "from sklearn.preprocessing import StandardScaler\n",
        "from sklearn.model_selection import train_test_split\n",
        "from sklearn.linear_model import LogisticRegression\n",
        "from sklearn.svm import SVC\n",
        "from sklearn.metrics import classification_report, accuracy_score\n",
        "import matplotlib.pyplot as plt\n",
        "import seaborn as sns\n",
        "from sklearn.model_selection import GridSearchCV"
      ],
      "metadata": {
        "id": "sQ5oHam5Vpxd"
      },
      "execution_count": null,
      "outputs": []
    },
    {
      "cell_type": "markdown",
      "source": [
        "##Loading the dataset"
      ],
      "metadata": {
        "id": "N0uYVI0GWOlf"
      }
    },
    {
      "cell_type": "markdown",
      "source": [
        "#Datasets"
      ],
      "metadata": {
        "id": "BGS6XTKpWP2n"
      }
    },
    {
      "cell_type": "code",
      "source": [
        "data = pd.read_csv('/content/Maternal Health Risk Data Set.csv')"
      ],
      "metadata": {
        "id": "75hHEOXGWWsX"
      },
      "execution_count": null,
      "outputs": []
    },
    {
      "cell_type": "code",
      "source": [
        "data.shape"
      ],
      "metadata": {
        "colab": {
          "base_uri": "https://localhost:8080/"
        },
        "id": "C4ZXnLthWv8-",
        "outputId": "5f726d2b-3c1d-46d1-ecd4-782e79634251"
      },
      "execution_count": null,
      "outputs": [
        {
          "output_type": "execute_result",
          "data": {
            "text/plain": [
              "(1014, 7)"
            ]
          },
          "metadata": {},
          "execution_count": 5
        }
      ]
    },
    {
      "cell_type": "code",
      "source": [
        "data.dtypes"
      ],
      "metadata": {
        "colab": {
          "base_uri": "https://localhost:8080/"
        },
        "id": "pu3q_05nX44j",
        "outputId": "697df692-97d7-4851-9e01-e85fa4cdaa83"
      },
      "execution_count": null,
      "outputs": [
        {
          "output_type": "execute_result",
          "data": {
            "text/plain": [
              "Age              int64\n",
              "SystolicBP       int64\n",
              "DiastolicBP      int64\n",
              "BS             float64\n",
              "BodyTemp       float64\n",
              "HeartRate        int64\n",
              "RiskLevel       object\n",
              "dtype: object"
            ]
          },
          "metadata": {},
          "execution_count": 6
        }
      ]
    },
    {
      "cell_type": "code",
      "source": [
        "print(data.head())"
      ],
      "metadata": {
        "colab": {
          "base_uri": "https://localhost:8080/"
        },
        "id": "OtTkhVXRX8GQ",
        "outputId": "95377288-4c96-49bf-acd5-fd96ce170279"
      },
      "execution_count": null,
      "outputs": [
        {
          "output_type": "stream",
          "name": "stdout",
          "text": [
            "   Age  SystolicBP  DiastolicBP    BS  BodyTemp  HeartRate  RiskLevel\n",
            "0   25         130           80  15.0      98.0         86  high risk\n",
            "1   35         140           90  13.0      98.0         70  high risk\n",
            "2   29          90           70   8.0     100.0         80  high risk\n",
            "3   30         140           85   7.0      98.0         70  high risk\n",
            "4   35         120           60   6.1      98.0         76   low risk\n"
          ]
        }
      ]
    },
    {
      "cell_type": "code",
      "source": [
        "print(data.info())"
      ],
      "metadata": {
        "colab": {
          "base_uri": "https://localhost:8080/"
        },
        "id": "hcLegX0zYIMa",
        "outputId": "e2605de8-9806-4176-de0f-5446fc4d3a73"
      },
      "execution_count": null,
      "outputs": [
        {
          "output_type": "stream",
          "name": "stdout",
          "text": [
            "<class 'pandas.core.frame.DataFrame'>\n",
            "RangeIndex: 1014 entries, 0 to 1013\n",
            "Data columns (total 7 columns):\n",
            " #   Column       Non-Null Count  Dtype  \n",
            "---  ------       --------------  -----  \n",
            " 0   Age          1014 non-null   int64  \n",
            " 1   SystolicBP   1014 non-null   int64  \n",
            " 2   DiastolicBP  1014 non-null   int64  \n",
            " 3   BS           1014 non-null   float64\n",
            " 4   BodyTemp     1014 non-null   float64\n",
            " 5   HeartRate    1014 non-null   int64  \n",
            " 6   RiskLevel    1014 non-null   object \n",
            "dtypes: float64(2), int64(4), object(1)\n",
            "memory usage: 55.6+ KB\n",
            "None\n"
          ]
        }
      ]
    },
    {
      "cell_type": "code",
      "source": [
        "print(data.isnull().sum())"
      ],
      "metadata": {
        "colab": {
          "base_uri": "https://localhost:8080/"
        },
        "id": "4Ub8Ka81ZcJE",
        "outputId": "0a4809ca-9f52-4893-ec9e-38f5f678d1af"
      },
      "execution_count": null,
      "outputs": [
        {
          "output_type": "stream",
          "name": "stdout",
          "text": [
            "Age            0\n",
            "SystolicBP     0\n",
            "DiastolicBP    0\n",
            "BS             0\n",
            "BodyTemp       0\n",
            "HeartRate      0\n",
            "RiskLevel      0\n",
            "dtype: int64\n"
          ]
        }
      ]
    },
    {
      "cell_type": "code",
      "source": [
        "print(data.describe())"
      ],
      "metadata": {
        "colab": {
          "base_uri": "https://localhost:8080/"
        },
        "id": "vdKLkYOUZnKp",
        "outputId": "7f3ba66b-3d2b-478b-a873-62327798d43d"
      },
      "execution_count": null,
      "outputs": [
        {
          "output_type": "stream",
          "name": "stdout",
          "text": [
            "               Age   SystolicBP  DiastolicBP           BS     BodyTemp  \\\n",
            "count  1014.000000  1014.000000  1014.000000  1014.000000  1014.000000   \n",
            "mean     29.871795   113.198225    76.460552     8.725986    98.665089   \n",
            "std      13.474386    18.403913    13.885796     3.293532     1.371384   \n",
            "min      10.000000    70.000000    49.000000     6.000000    98.000000   \n",
            "25%      19.000000   100.000000    65.000000     6.900000    98.000000   \n",
            "50%      26.000000   120.000000    80.000000     7.500000    98.000000   \n",
            "75%      39.000000   120.000000    90.000000     8.000000    98.000000   \n",
            "max      70.000000   160.000000   100.000000    19.000000   103.000000   \n",
            "\n",
            "         HeartRate  \n",
            "count  1014.000000  \n",
            "mean     74.301775  \n",
            "std       8.088702  \n",
            "min       7.000000  \n",
            "25%      70.000000  \n",
            "50%      76.000000  \n",
            "75%      80.000000  \n",
            "max      90.000000  \n"
          ]
        }
      ]
    },
    {
      "cell_type": "code",
      "source": [
        "print(\"Missing values:\\n\", data.isnull().sum())"
      ],
      "metadata": {
        "colab": {
          "base_uri": "https://localhost:8080/"
        },
        "id": "bcuROD8DcC0K",
        "outputId": "6a885c16-c099-441e-ea74-e8eb915b46c1"
      },
      "execution_count": null,
      "outputs": [
        {
          "output_type": "stream",
          "name": "stdout",
          "text": [
            "Missing values:\n",
            " Age            0\n",
            "SystolicBP     0\n",
            "DiastolicBP    0\n",
            "BS             0\n",
            "BodyTemp       0\n",
            "HeartRate      0\n",
            "RiskLevel      0\n",
            "dtype: int64\n"
          ]
        }
      ]
    },
    {
      "cell_type": "markdown",
      "source": [
        "##Data Preprocessing"
      ],
      "metadata": {
        "id": "T4urd-LbcPwi"
      }
    },
    {
      "cell_type": "markdown",
      "source": [
        "# Handle missing values"
      ],
      "metadata": {
        "id": "RRiiOPXdceFT"
      }
    },
    {
      "cell_type": "code",
      "source": [
        "data = data.dropna()"
      ],
      "metadata": {
        "id": "ks34KTNicI2p"
      },
      "execution_count": null,
      "outputs": []
    },
    {
      "cell_type": "code",
      "source": [
        "outlier_condition = ~((data[numerical_cols] < (Q1 - 1.5 * IQR)) | (data[numerical_cols] > (Q3 + 1.5 * IQR))).any(axis=1)\n",
        "data = data[outlier_condition]"
      ],
      "metadata": {
        "id": "oW59-7QLcmX4"
      },
      "execution_count": null,
      "outputs": []
    },
    {
      "cell_type": "markdown",
      "source": [
        "# Handle outliers (e.g., using IQR)"
      ],
      "metadata": {
        "id": "eRsD9bYKdfJg"
      }
    },
    {
      "cell_type": "code",
      "source": [
        "numerical_cols = ['Age', 'SystolicBP', 'DiastolicBP', 'BS', 'BodyTemp', 'HeartRate']\n",
        "Q1 = data[numerical_cols].quantile(0.25)\n",
        "Q3 = data[numerical_cols].quantile(0.75)\n",
        "IQR = Q3 - Q1"
      ],
      "metadata": {
        "id": "_40Rd66bdgOb"
      },
      "execution_count": null,
      "outputs": []
    },
    {
      "cell_type": "markdown",
      "source": [
        "# Check the number of records after outlier removal\n"
      ],
      "metadata": {
        "id": "cFcqhl-jdwBi"
      }
    },
    {
      "cell_type": "code",
      "source": [
        "print(f\"Number of records after outlier removal: {data.shape[0]}\")\n",
        "scaler = StandardScaler()"
      ],
      "metadata": {
        "colab": {
          "base_uri": "https://localhost:8080/"
        },
        "id": "y_7Poaosdq8u",
        "outputId": "35630a80-fb43-4196-944e-b8c2f2aada02"
      },
      "execution_count": null,
      "outputs": [
        {
          "output_type": "stream",
          "name": "stdout",
          "text": [
            "Number of records after outlier removal: 620\n"
          ]
        }
      ]
    },
    {
      "cell_type": "code",
      "source": [
        "data[numerical_cols] = scaler.fit_transform(data[numerical_cols])\n",
        "print(data.head())"
      ],
      "metadata": {
        "colab": {
          "base_uri": "https://localhost:8080/"
        },
        "id": "eqErvFhId20m",
        "outputId": "39c9c2c5-d38f-410b-cf36-cd374bc5f2c4"
      },
      "execution_count": null,
      "outputs": [
        {
          "output_type": "stream",
          "name": "stdout",
          "text": [
            "        Age  SystolicBP  DiastolicBP        BS  BodyTemp  HeartRate  RiskLevel\n",
            "3  0.179124    1.687410     0.729557 -0.279687       0.0  -0.466324  high risk\n",
            "4  0.594444    0.496388    -1.165238 -1.863948       0.0   0.463325   low risk\n",
            "5 -0.402325    1.687410     0.350598 -0.262084       0.0  -0.466324  high risk\n",
            "6 -0.402325    1.091899    -0.407320 -0.262084       0.0   0.773208   mid risk\n",
            "8  0.345252    0.496388     1.108517 -0.455716       0.0  -0.466324   mid risk\n"
          ]
        }
      ]
    },
    {
      "cell_type": "markdown",
      "source": [
        "#Exploratory Data Analysis (EDA)"
      ],
      "metadata": {
        "id": "2dxDYFBDd9Mb"
      }
    },
    {
      "cell_type": "markdown",
      "source": [
        "# Plot histograms for each feature\n"
      ],
      "metadata": {
        "id": "WQWuBnH7fG0I"
      }
    },
    {
      "cell_type": "code",
      "source": [
        "data.hist(figsize=(12, 10))"
      ],
      "metadata": {
        "colab": {
          "base_uri": "https://localhost:8080/",
          "height": 957
        },
        "id": "mvsoDnZzfK8x",
        "outputId": "f66dfc67-a4e0-49fc-e4ff-1c7fb2b6b17c"
      },
      "execution_count": null,
      "outputs": [
        {
          "output_type": "execute_result",
          "data": {
            "text/plain": [
              "array([[<Axes: title={'center': 'Age'}>,\n",
              "        <Axes: title={'center': 'SystolicBP'}>],\n",
              "       [<Axes: title={'center': 'DiastolicBP'}>,\n",
              "        <Axes: title={'center': 'BS'}>],\n",
              "       [<Axes: title={'center': 'BodyTemp'}>,\n",
              "        <Axes: title={'center': 'HeartRate'}>]], dtype=object)"
            ]
          },
          "metadata": {},
          "execution_count": 22
        },
        {
          "output_type": "display_data",
          "data": {
            "text/plain": [
              "<Figure size 1200x1000 with 6 Axes>"
            ],
            "image/png": "[encoded data removed]"
          },
          "metadata": {}
        }
      ]
    },
    {
      "cell_type": "code",
      "source": [
        "correlation_matrix = data[numerical_cols].corr()\n",
        "plt.figure(figsize=(10, 8))"
      ],
      "metadata": {
        "colab": {
          "base_uri": "https://localhost:8080/",
          "height": 52
        },
        "id": "DTm9tdjhfTw9",
        "outputId": "63687a78-9f6a-4958-9406-64c3f5e87be9"
      },
      "execution_count": null,
      "outputs": [
        {
          "output_type": "execute_result",
          "data": {
            "text/plain": [
              "<Figure size 1000x800 with 0 Axes>"
            ]
          },
          "metadata": {},
          "execution_count": 23
        },
        {
          "output_type": "display_data",
          "data": {
            "text/plain": [
              "<Figure size 1000x800 with 0 Axes>"
            ]
          },
          "metadata": {}
        }
      ]
    },
    {
      "cell_type": "code",
      "source": [
        "sns.heatmap(correlation_matrix, annot=True, cmap='coolwarm')\n",
        "plt.show()"
      ],
      "metadata": {
        "colab": {
          "base_uri": "https://localhost:8080/",
          "height": 499
        },
        "id": "I0GUFkSDftNc",
        "outputId": "e4427dfb-a200-4f03-bdb0-e3a09f4cc441"
      },
      "execution_count": null,
      "outputs": [
        {
          "output_type": "display_data",
          "data": {
            "text/plain": [
              "<Figure size 640x480 with 2 Axes>"
            ],
            "image/png": "[encoded data removed]"
          },
          "metadata": {}
        }
      ]
    },
    {
      "cell_type": "code",
      "source": [
        "plt.figure(figsize=(6, 4))\n",
        "sns.countplot(x='RiskLevel', data=data)\n",
        "plt.show()"
      ],
      "metadata": {
        "colab": {
          "base_uri": "https://localhost:8080/",
          "height": 388
        },
        "id": "s4b2t9zOfwFN",
        "outputId": "92011820-8fc2-494b-f28a-164d04ab49d9"
      },
      "execution_count": null,
      "outputs": [
        {
          "output_type": "display_data",
          "data": {
            "text/plain": [
              "<Figure size 600x400 with 1 Axes>"
            ],
            "image/png": "[encoded data removed]"
          },
          "metadata": {}
        }
      ]
    },
    {
      "cell_type": "markdown",
      "source": [
        "##Feature Engineering"
      ],
      "metadata": {
        "id": "4nY2paXXgzSW"
      }
    },
    {
      "cell_type": "markdown",
      "source": [
        "# Create interaction terms (example)\n",
        "\n"
      ],
      "metadata": {
        "id": "qgNhAwG_f5VG"
      }
    },
    {
      "cell_type": "code",
      "source": [
        "data['Age_SystolicBP'] = data['Age'] * data['SystolicBP']\n",
        "data['Age_DiastolicBP'] = data['Age'] * data['DiastolicBP']"
      ],
      "metadata": {
        "id": "SMQ5VJC2f2H8"
      },
      "execution_count": null,
      "outputs": []
    },
    {
      "cell_type": "markdown",
      "source": [
        "# Polynomial features\n"
      ],
      "metadata": {
        "id": "yyYgrEV8gdEz"
      }
    },
    {
      "cell_type": "code",
      "source": [
        "data['Age_squared'] = data['Age'] ** 2\n",
        "data['Age_binned'] = pd.cut(data['Age'], bins=5, labels=False)\n",
        "print(data.head())"
      ],
      "metadata": {
        "colab": {
          "base_uri": "https://localhost:8080/"
        },
        "id": "q1Bx9I24gjXh",
        "outputId": "32dd2dfe-df96-446b-a5cc-ee78a57cd9fc"
      },
      "execution_count": null,
      "outputs": [
        {
          "output_type": "stream",
          "name": "stdout",
          "text": [
            "        Age  SystolicBP  DiastolicBP        BS  BodyTemp  HeartRate  \\\n",
            "3  0.179124    1.687410     0.729557 -0.279687       0.0  -0.466324   \n",
            "4  0.594444    0.496388    -1.165238 -1.863948       0.0   0.463325   \n",
            "5 -0.402325    1.687410     0.350598 -0.262084       0.0  -0.466324   \n",
            "6 -0.402325    1.091899    -0.407320 -0.262084       0.0   0.773208   \n",
            "8  0.345252    0.496388     1.108517 -0.455716       0.0  -0.466324   \n",
            "\n",
            "   RiskLevel  Age_SystolicBP  Age_DiastolicBP  Age_squared  Age_binned  \n",
            "3  high risk        0.302255         0.130681     0.032085           1  \n",
            "4   low risk        0.295075        -0.692669     0.353363           2  \n",
            "5  high risk       -0.678887        -0.141054     0.161865           1  \n",
            "6   mid risk       -0.439298         0.163875     0.161865           1  \n",
            "8   mid risk        0.171379         0.382717     0.119199           1  \n"
          ]
        }
      ]
    },
    {
      "cell_type": "markdown",
      "source": [
        "##Model Building\n"
      ],
      "metadata": {
        "id": "Qv0crb5yhCYm"
      }
    },
    {
      "cell_type": "markdown",
      "source": [
        "# Split the data\n"
      ],
      "metadata": {
        "id": "rZ-0Df3chDs0"
      }
    },
    {
      "cell_type": "code",
      "source": [
        "X = data.drop('RiskLevel', axis=1)\n",
        "y = data['RiskLevel']"
      ],
      "metadata": {
        "id": "RAfMHsVrhHdH"
      },
      "execution_count": null,
      "outputs": []
    },
    {
      "cell_type": "code",
      "source": [
        "X_train, X_test, y_train, y_test = train_test_split(X, y, test_size=0.2, random_state=42)"
      ],
      "metadata": {
        "id": "CJqJR17ahipb"
      },
      "execution_count": null,
      "outputs": []
    },
    {
      "cell_type": "markdown",
      "source": [
        "# Logistic Regression"
      ],
      "metadata": {
        "id": "hocravx6hkUe"
      }
    },
    {
      "cell_type": "code",
      "source": [
        "logreg = LogisticRegression(max_iter=1000)\n",
        "logreg.fit(X_train, y_train)\n",
        "y_pred_logreg = logreg.predict(X_test)\n",
        "print(\"Logistic Regression:\\n\", classification_report(y_test, y_pred_logreg))\n",
        "print(\"Accuracy:\", accuracy_score(y_test, y_pred_logreg))"
      ],
      "metadata": {
        "colab": {
          "base_uri": "https://localhost:8080/"
        },
        "id": "wY_pHo2uho6O",
        "outputId": "3f773b10-0c15-4b52-9623-36f98d68867f"
      },
      "execution_count": null,
      "outputs": [
        {
          "output_type": "stream",
          "name": "stdout",
          "text": [
            "Logistic Regression:\n",
            "               precision    recall  f1-score   support\n",
            "\n",
            "   high risk       1.00      0.64      0.78        11\n",
            "    low risk       0.58      0.95      0.72        64\n",
            "    mid risk       0.67      0.16      0.26        49\n",
            "\n",
            "    accuracy                           0.61       124\n",
            "   macro avg       0.75      0.58      0.59       124\n",
            "weighted avg       0.65      0.61      0.55       124\n",
            "\n",
            "Accuracy: 0.6129032258064516\n"
          ]
        }
      ]
    },
    {
      "cell_type": "markdown",
      "source": [
        "# Support Vector Classifier"
      ],
      "metadata": {
        "id": "_CRf9Osph1iI"
      }
    },
    {
      "cell_type": "code",
      "source": [
        "svc = SVC()\n",
        "svc.fit(X_train, y_train)\n",
        "y_pred_svc = svc.predict(X_test)\n",
        "print(\"Support Vector Classifier:\\n\", classification_report(y_test, y_pred_svc))\n",
        "print(\"Accuracy:\", accuracy_score(y_test, y_pred_svc))\n",
        "from sklearn.model_selection import GridSearchCV"
      ],
      "metadata": {
        "colab": {
          "base_uri": "https://localhost:8080/"
        },
        "id": "EQJ6ASG4hv6H",
        "outputId": "06ea0baf-5965-473c-cc2d-8ee8e4675f67"
      },
      "execution_count": null,
      "outputs": [
        {
          "output_type": "stream",
          "name": "stdout",
          "text": [
            "Support Vector Classifier:\n",
            "               precision    recall  f1-score   support\n",
            "\n",
            "   high risk       1.00      0.64      0.78        11\n",
            "    low risk       0.59      0.97      0.73        64\n",
            "    mid risk       0.67      0.16      0.26        49\n",
            "\n",
            "    accuracy                           0.62       124\n",
            "   macro avg       0.75      0.59      0.59       124\n",
            "weighted avg       0.66      0.62      0.55       124\n",
            "\n",
            "Accuracy: 0.6209677419354839\n"
          ]
        }
      ]
    },
    {
      "cell_type": "code",
      "source": [
        "param_grid = {'C': [0.1, 1, 10, 100], 'solver': ['liblinear']}\n",
        "grid_search = GridSearchCV(LogisticRegression(max_iter=1000), param_grid, cv=5, scoring='accuracy')\n",
        "grid_search.fit(X_train, y_train)\n",
        "best_logreg = grid_search.best_estimator_"
      ],
      "metadata": {
        "id": "I_ENJCunh9jQ"
      },
      "execution_count": null,
      "outputs": []
    },
    {
      "cell_type": "markdown",
      "source": [
        "# Evaluate the fine-tuned model\n"
      ],
      "metadata": {
        "id": "KaHFUAbCiImJ"
      }
    },
    {
      "cell_type": "code",
      "source": [
        "y_pred_best_logreg = best_logreg.predict(X_test)\n",
        "print(\"Fine-tuned Logistic Regression:\\n\", classification_report(y_test, y_pred_best_logreg))\n",
        "print(\"Accuracy:\", accuracy_score(y_test, y_pred_best_logreg))"
      ],
      "metadata": {
        "colab": {
          "base_uri": "https://localhost:8080/"
        },
        "id": "FUOKL6E1iJ2A",
        "outputId": "2ee27f74-d2e2-4322-8845-8db8a9cb4118"
      },
      "execution_count": null,
      "outputs": [
        {
          "output_type": "stream",
          "name": "stdout",
          "text": [
            "Fine-tuned Logistic Regression:\n",
            "               precision    recall  f1-score   support\n",
            "\n",
            "   high risk       1.00      0.45      0.62        11\n",
            "    low risk       0.58      0.94      0.71        64\n",
            "    mid risk       0.53      0.16      0.25        49\n",
            "\n",
            "    accuracy                           0.59       124\n",
            "   macro avg       0.70      0.52      0.53       124\n",
            "weighted avg       0.60      0.59      0.52       124\n",
            "\n",
            "Accuracy: 0.5887096774193549\n"
          ]
        }
      ]
    }
  ]
}